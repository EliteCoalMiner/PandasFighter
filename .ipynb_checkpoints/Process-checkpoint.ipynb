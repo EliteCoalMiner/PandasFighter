{
 "cells": [
  {
   "cell_type": "code",
   "execution_count": 1,
   "metadata": {},
   "outputs": [],
   "source": [
    "import pandas as pd"
   ]
  },
  {
   "cell_type": "code",
   "execution_count": 2,
   "metadata": {},
   "outputs": [],
   "source": [
    "oDf=pd.read_csv('outcome_interview.csv')"
   ]
  },
  {
   "cell_type": "code",
   "execution_count": 3,
   "metadata": {},
   "outputs": [],
   "source": [
    "eDf=pd.read_csv('event_interview.csv')"
   ]
  },
  {
   "cell_type": "code",
   "execution_count": 8,
   "metadata": {},
   "outputs": [
    {
     "data": {
      "text/html": [
       "<div>\n",
       "<style scoped>\n",
       "    .dataframe tbody tr th:only-of-type {\n",
       "        vertical-align: middle;\n",
       "    }\n",
       "\n",
       "    .dataframe tbody tr th {\n",
       "        vertical-align: top;\n",
       "    }\n",
       "\n",
       "    .dataframe thead th {\n",
       "        text-align: right;\n",
       "    }\n",
       "</style>\n",
       "<table border=\"1\" class=\"dataframe\">\n",
       "  <thead>\n",
       "    <tr style=\"text-align: right;\">\n",
       "      <th></th>\n",
       "      <th>id</th>\n",
       "      <th>name</th>\n",
       "      <th>nationality</th>\n",
       "    </tr>\n",
       "  </thead>\n",
       "  <tbody>\n",
       "    <tr>\n",
       "      <th>0</th>\n",
       "      <td>111</td>\n",
       "      <td>Bertrand Amoussou</td>\n",
       "      <td>France</td>\n",
       "    </tr>\n",
       "    <tr>\n",
       "      <th>1</th>\n",
       "      <td>3227</td>\n",
       "      <td>Dave Zitanick</td>\n",
       "      <td>United States</td>\n",
       "    </tr>\n",
       "    <tr>\n",
       "      <th>2</th>\n",
       "      <td>2002</td>\n",
       "      <td>Jim Mullen</td>\n",
       "      <td>United States</td>\n",
       "    </tr>\n",
       "    <tr>\n",
       "      <th>3</th>\n",
       "      <td>2033</td>\n",
       "      <td>Mario Neto</td>\n",
       "      <td>Brazil</td>\n",
       "    </tr>\n",
       "    <tr>\n",
       "      <th>4</th>\n",
       "      <td>1667</td>\n",
       "      <td>Aaron Lanfranco</td>\n",
       "      <td>United States</td>\n",
       "    </tr>\n",
       "  </tbody>\n",
       "</table>\n",
       "</div>"
      ],
      "text/plain": [
       "     id               name    nationality\n",
       "0   111  Bertrand Amoussou         France\n",
       "1  3227      Dave Zitanick  United States\n",
       "2  2002         Jim Mullen  United States\n",
       "3  2033         Mario Neto         Brazil\n",
       "4  1667    Aaron Lanfranco  United States"
      ]
     },
     "execution_count": 8,
     "metadata": {},
     "output_type": "execute_result"
    }
   ],
   "source": [
    "fDf=pd.read_csv('fighter_interview.csv')"
   ]
  },
  {
   "cell_type": "code",
   "execution_count": 5,
   "metadata": {},
   "outputs": [],
   "source": [
    "df=pd.merge(oDf,fDf,how='inner', left_on='fighter1_id', right_on='id')\n",
    "df=pd.merge(df,fDf,how='inner', left_on='fighter2_id', right_on='id')\n",
    "df=pd.merge(df,eDf,how='inner', left_on='event_id', right_on='id')\n",
    "df=df.drop(['id_x','fighter1_id','fighter2_id','winner_id','event_id','id_y','date','promoter','location','attendance','created_at','modified_at'], axis=1)\n",
    "df=df.rename(columns={\"name_x\": \"fighter1_name\", \"name_y\": \"fighter2_name\",\"nationality_x\":\"fighter1_nationality\",\"nationality_y\":\"fighter2_nationality\",\"name\":\"event_name\"})"
   ]
  },
  {
   "cell_type": "code",
   "execution_count": 6,
   "metadata": {},
   "outputs": [
    {
     "data": {
      "text/html": [
       "<div>\n",
       "<style scoped>\n",
       "    .dataframe tbody tr th:only-of-type {\n",
       "        vertical-align: middle;\n",
       "    }\n",
       "\n",
       "    .dataframe tbody tr th {\n",
       "        vertical-align: top;\n",
       "    }\n",
       "\n",
       "    .dataframe thead th {\n",
       "        text-align: right;\n",
       "    }\n",
       "</style>\n",
       "<table border=\"1\" class=\"dataframe\">\n",
       "  <thead>\n",
       "    <tr style=\"text-align: right;\">\n",
       "      <th></th>\n",
       "      <th>fighter1_name</th>\n",
       "      <th>fighter2_name</th>\n",
       "      <th>fighter1_nationality</th>\n",
       "      <th>fighter2_nationality</th>\n",
       "      <th>event_name</th>\n",
       "    </tr>\n",
       "  </thead>\n",
       "  <tbody>\n",
       "    <tr>\n",
       "      <th>0</th>\n",
       "      <td>Mike Easton</td>\n",
       "      <td>Raphael Assuncao</td>\n",
       "      <td>United States</td>\n",
       "      <td>Brazil</td>\n",
       "      <td>UFC on FOX 5: Henderson vs. Diaz</td>\n",
       "    </tr>\n",
       "    <tr>\n",
       "      <th>1</th>\n",
       "      <td>Alexander Gustafsson</td>\n",
       "      <td>Mauricio Rua</td>\n",
       "      <td>Sweden</td>\n",
       "      <td>Brazil</td>\n",
       "      <td>UFC on FOX 5: Henderson vs. Diaz</td>\n",
       "    </tr>\n",
       "    <tr>\n",
       "      <th>2</th>\n",
       "      <td>Dennis Siver</td>\n",
       "      <td>Nam Phan</td>\n",
       "      <td>Germany</td>\n",
       "      <td>United States</td>\n",
       "      <td>UFC on FOX 5: Henderson vs. Diaz</td>\n",
       "    </tr>\n",
       "    <tr>\n",
       "      <th>3</th>\n",
       "      <td>Jeremy Stephens</td>\n",
       "      <td>Yves Edwards</td>\n",
       "      <td>United States</td>\n",
       "      <td>United States</td>\n",
       "      <td>UFC on FOX 5: Henderson vs. Diaz</td>\n",
       "    </tr>\n",
       "    <tr>\n",
       "      <th>4</th>\n",
       "      <td>John Albert</td>\n",
       "      <td>Scott Jorgensen</td>\n",
       "      <td>United States</td>\n",
       "      <td>United States</td>\n",
       "      <td>UFC on FOX 5: Henderson vs. Diaz</td>\n",
       "    </tr>\n",
       "  </tbody>\n",
       "</table>\n",
       "</div>"
      ],
      "text/plain": [
       "          fighter1_name     fighter2_name fighter1_nationality  \\\n",
       "0           Mike Easton  Raphael Assuncao        United States   \n",
       "1  Alexander Gustafsson      Mauricio Rua               Sweden   \n",
       "2          Dennis Siver          Nam Phan              Germany   \n",
       "3       Jeremy Stephens      Yves Edwards        United States   \n",
       "4           John Albert   Scott Jorgensen        United States   \n",
       "\n",
       "  fighter2_nationality                        event_name  \n",
       "0               Brazil  UFC on FOX 5: Henderson vs. Diaz  \n",
       "1               Brazil  UFC on FOX 5: Henderson vs. Diaz  \n",
       "2        United States  UFC on FOX 5: Henderson vs. Diaz  \n",
       "3        United States  UFC on FOX 5: Henderson vs. Diaz  \n",
       "4        United States  UFC on FOX 5: Henderson vs. Diaz  "
      ]
     },
     "execution_count": 6,
     "metadata": {},
     "output_type": "execute_result"
    }
   ],
   "source": [
    "df=df[['fighter1_name', 'fighter2_name', 'fighter1_nationality', 'fighter2_nationality', 'event_name']]\n",
    "df.head()"
   ]
  },
  {
   "cell_type": "code",
   "execution_count": 19,
   "metadata": {},
   "outputs": [
    {
     "data": {
      "text/plain": [
       "<matplotlib.axes._subplots.AxesSubplot at 0x7ff5dfc94cf8>"
      ]
     },
     "execution_count": 19,
     "metadata": {},
     "output_type": "execute_result"
    },
    {
     "data": {
      "image/png": "[encoded data removed]",
      "text/plain": [
       "<Figure size 432x288 with 1 Axes>"
      ]
     },
     "metadata": {
      "needs_background": "light"
     },
     "output_type": "display_data"
    }
   ],
   "source": [
    "fDf.groupby(['nationality'])['id'].count().sort_values(ascending=False).iloc[0:10].plot(kind='bar')"
   ]
  },
  {
   "cell_type": "code",
   "execution_count": null,
   "metadata": {},
   "outputs": [],
   "source": [
    "df.to_csv('output.csv')"
   ]
  }
 ],
 "metadata": {
  "kernelspec": {
   "display_name": "Python 3",
   "language": "python",
   "name": "python3"
  },
  "language_info": {
   "codemirror_mode": {
    "name": "ipython",
    "version": 3
   },
   "file_extension": ".py",
   "mimetype": "text/x-python",
   "name": "python",
   "nbconvert_exporter": "python",
   "pygments_lexer": "ipython3",
   "version": "3.5.2"
  }
 },
 "nbformat": 4,
 "nbformat_minor": 2
}
